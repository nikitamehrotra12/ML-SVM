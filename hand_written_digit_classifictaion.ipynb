{
 "cells": [
  {
   "cell_type": "code",
   "execution_count": 37,
   "metadata": {},
   "outputs": [],
   "source": [
    "import cv2\n",
    "import os\n",
    "import numpy as np\n",
    "from sklearn import svm,metrics\n",
    "from sklearn.metrics import f1_score\n",
    "from sklearn.metrics import accuracy_score\n",
    "import itertools\n",
    "from sklearn.model_selection import train_test_split,GridSearchCV\n",
    "import pandas as pd\n",
    "import matplotlib.pyplot as plt\n",
    "from sklearn.preprocessing import label_binarize\n",
    "from scipy import interp\n",
    "from itertools import cycle\n",
    "from sklearn.metrics import roc_curve, auc"
   ]
  },
  {
   "cell_type": "code",
   "execution_count": 15,
   "metadata": {},
   "outputs": [],
   "source": [
    "def svc_param_selection(X, y, nfolds):\n",
    "    Cs = [0.01, 0.1, 1, 10,100]\n",
    "    gammas = [0.001, 0.01, 0.1, 1,1e-1]\n",
    "    param_grid = {'C': Cs, 'gamma' : gammas}\n",
    "    grid_search = GridSearchCV(svm.SVC(kernel='rbf'), param_grid, cv=nfolds)\n",
    "    grid_search.fit(X, y)\n",
    "    grid_search.best_params_\n",
    "    return grid_search.best_params_"
   ]
  },
  {
   "cell_type": "code",
   "execution_count": 16,
   "metadata": {},
   "outputs": [],
   "source": [
    "images_train=[]\n",
    "label_train=[]\n",
    "i=1\n",
    "folder=\"Train_val\"\n",
    "for filename in os.listdir(folder):\n",
    "    path=folder+\"/\"+filename\n",
    "    for file in os.listdir(path):\n",
    "        img = cv2.imread(os.path.join((os.path.join(folder,filename)),file))\n",
    "        if img is not None:\n",
    "                images_train.append(img)\n",
    "                label_train.append(i)\n",
    "    i=i+1\n",
    "images_train=np.array(images_train)\n",
    "label_train=np.array((label_train))"
   ]
  },
  {
   "cell_type": "code",
   "execution_count": 17,
   "metadata": {},
   "outputs": [
    {
     "data": {
      "text/plain": [
       "array([1, 2, 3, 4, 5])"
      ]
     },
     "execution_count": 17,
     "metadata": {},
     "output_type": "execute_result"
    }
   ],
   "source": [
    "images_test=[]\n",
    "label_test=[]\n",
    "i=1\n",
    "folder1=\"test_val\"\n",
    "for filename in os.listdir(folder1):\n",
    "    if filename != '.DS_Store':\n",
    "        path=folder1+\"/\"+filename\n",
    "        for file in os.listdir(path):\n",
    "            img = cv2.imread(os.path.join((os.path.join(folder1,filename)),file))\n",
    "            if img is not None:\n",
    "                    images_test.append(img)\n",
    "                    label_test.append(i)\n",
    "        i=i+1\n",
    "images_test=np.array(images_test)\n",
    "label_test=np.array((label_test))\n",
    "np.unique(label_test)"
   ]
  },
  {
   "cell_type": "code",
   "execution_count": 18,
   "metadata": {},
   "outputs": [],
   "source": [
    "image_train, image_val, label_train, label_val = train_test_split(images_train, label_train, test_size=0.2, random_state=33)"
   ]
  },
  {
   "cell_type": "code",
   "execution_count": 19,
   "metadata": {},
   "outputs": [],
   "source": [
    "image_train.shape\n",
    "image_train= image_train.reshape(6800,-1)\n"
   ]
  },
  {
   "cell_type": "code",
   "execution_count": 20,
   "metadata": {},
   "outputs": [],
   "source": [
    "images_test.shape\n",
    "images_test= images_test.reshape(1500,-1)\n"
   ]
  },
  {
   "cell_type": "code",
   "execution_count": 21,
   "metadata": {},
   "outputs": [],
   "source": [
    "image_train.shape\n",
    "image_vall= image_val.reshape(1700,-1)\n"
   ]
  },
  {
   "cell_type": "code",
   "execution_count": 25,
   "metadata": {},
   "outputs": [],
   "source": [
    "# param=svc_param_selection(image_train, label_train, 5)\n",
    "# print(param)"
   ]
  },
  {
   "cell_type": "code",
   "execution_count": 26,
   "metadata": {},
   "outputs": [
    {
     "data": {
      "text/plain": [
       "SVC(C=1.0, cache_size=200, class_weight=None, coef0=0.0,\n",
       "  decision_function_shape='ovr', degree=3, gamma=0.1, kernel='poly',\n",
       "  max_iter=-1, probability=False, random_state=None, shrinking=True,\n",
       "  tol=0.001, verbose=False)"
      ]
     },
     "execution_count": 26,
     "metadata": {},
     "output_type": "execute_result"
    }
   ],
   "source": [
    "clssifier=svm.SVC(kernel='poly',gamma=1e-1)\n",
    "clssifier.fit(image_train,label_train)"
   ]
  },
  {
   "cell_type": "code",
   "execution_count": 27,
   "metadata": {},
   "outputs": [],
   "source": [
    "predicted_val=clssifier.predict(image_vall)"
   ]
  },
  {
   "cell_type": "code",
   "execution_count": 28,
   "metadata": {},
   "outputs": [
    {
     "name": "stdout",
     "output_type": "stream",
     "text": [
      "Accuracy on Validation Set 0.9776470588235294\n"
     ]
    }
   ],
   "source": [
    "print('Accuracy on Validation Set',accuracy_score(label_val,predicted_val))"
   ]
  },
  {
   "cell_type": "code",
   "execution_count": 29,
   "metadata": {},
   "outputs": [
    {
     "name": "stdout",
     "output_type": "stream",
     "text": [
      "Accuracy on Validation Set 0.9776470588235294\n",
      "F1-Score on Validation Set 0.9777704749753635\n",
      "Predicted    1    2    3    4    5\n",
      "Correct                           \n",
      "1          333    1    1    0    2\n",
      "2            6  347    2    2    2\n",
      "3            0    4  328    0    3\n",
      "4            2    3    0  334    1\n",
      "5            2    4    2    1  320\n"
     ]
    },
    {
     "data": {
      "text/plain": [
       "<Figure size 432x288 with 0 Axes>"
      ]
     },
     "execution_count": 29,
     "metadata": {},
     "output_type": "execute_result"
    },
    {
     "data": {
      "image/png": "[encoded data removed]",
      "text/plain": [
       "<Figure size 432x288 with 1 Axes>"
      ]
     },
     "metadata": {
      "needs_background": "light"
     },
     "output_type": "display_data"
    },
    {
     "data": {
      "text/plain": [
       "<Figure size 432x288 with 0 Axes>"
      ]
     },
     "metadata": {},
     "output_type": "display_data"
    }
   ],
   "source": [
    "print('Accuracy on Validation Set',accuracy_score(label_val,predicted_val))\n",
    "print('F1-Score on Validation Set',f1_score(label_val,predicted_val,average='macro'))\n",
    "actu=pd.Series(label_val,name='Correct')\n",
    "pred=pd.Series(predicted_val,name='Predicted')\n",
    "confusion_mat= pd.crosstab(actu,pred,rownames=['Correct'],colnames=['Predicted'])\n",
    "print(confusion_mat)\n",
    "plt.imshow(confusion_mat,interpolation='nearest', cmap=plt.cm.Blues)\n",
    "tick_marks = np.arange(len(confusion_mat.columns))\n",
    "plt.xticks(tick_marks, confusion_mat.columns, rotation=45)\n",
    "plt.yticks(tick_marks, confusion_mat.index)\n",
    "for i in range(1,6):\n",
    "    for j in range(1,6):\n",
    "        plt.text(i-1,j-1,confusion_mat[i][j],horizontalalignment=\"center\",color=\"magenta\")\n",
    "plt.ylabel(confusion_mat.index.name)\n",
    "plt.xlabel(confusion_mat.columns.name)\n",
    "plt.tight_layout()\n",
    "plt.figure()"
   ]
  },
  {
   "cell_type": "code",
   "execution_count": 30,
   "metadata": {},
   "outputs": [
    {
     "name": "stdout",
     "output_type": "stream",
     "text": [
      "1\n"
     ]
    }
   ],
   "source": [
    "print(confusion_mat[2][1])"
   ]
  },
  {
   "cell_type": "code",
   "execution_count": 31,
   "metadata": {},
   "outputs": [],
   "source": [
    "predicted_test=clssifier.predict(images_test)"
   ]
  },
  {
   "cell_type": "code",
   "execution_count": 32,
   "metadata": {},
   "outputs": [
    {
     "name": "stdout",
     "output_type": "stream",
     "text": [
      "Accuracy on Test Set 0.9826666666666667\n",
      "F1-Score on Test Set 0.9826939917816885\n",
      "Predicted    1    2    3    4    5\n",
      "Correct                           \n",
      "1          296    1    2    0    1\n",
      "2            2  296    2    0    0\n",
      "3            2    0  297    0    1\n",
      "4            1    5    0  294    0\n",
      "5            1    5    3    0  291\n"
     ]
    },
    {
     "data": {
      "text/plain": [
       "<Figure size 432x288 with 0 Axes>"
      ]
     },
     "execution_count": 32,
     "metadata": {},
     "output_type": "execute_result"
    },
    {
     "data": {
      "image/png": "[encoded data removed]",
      "text/plain": [
       "<Figure size 432x288 with 1 Axes>"
      ]
     },
     "metadata": {
      "needs_background": "light"
     },
     "output_type": "display_data"
    },
    {
     "data": {
      "text/plain": [
       "<Figure size 432x288 with 0 Axes>"
      ]
     },
     "metadata": {},
     "output_type": "display_data"
    }
   ],
   "source": [
    "print('Accuracy on Test Set',accuracy_score(label_test,predicted_test))\n",
    "print('F1-Score on Test Set',f1_score(label_test,predicted_test,average='macro'))\n",
    "actu=pd.Series(label_test,name='Correct')\n",
    "pred=pd.Series(predicted_test,name='Predicted')\n",
    "confusion_mat= pd.crosstab(actu,pred,rownames=['Correct'],colnames=['Predicted'])\n",
    "print(confusion_mat)\n",
    "plt.imshow(confusion_mat,interpolation='nearest', cmap=plt.cm.Blues)\n",
    "tick_marks = np.arange(len(confusion_mat.columns))\n",
    "plt.xticks(tick_marks, confusion_mat.columns, rotation=45)\n",
    "plt.yticks(tick_marks, confusion_mat.index)\n",
    "\n",
    "for i in range(1,6):\n",
    "    for j in range(1,6):\n",
    "        plt.text(i-1,j-1,confusion_mat[i][j],horizontalalignment=\"center\",color=\"magenta\")\n",
    "plt.ylabel(confusion_mat.index.name)\n",
    "plt.xlabel(confusion_mat.columns.name)\n",
    "plt.tight_layout()\n",
    "plt.figure()"
   ]
  },
  {
   "cell_type": "code",
   "execution_count": 40,
   "metadata": {},
   "outputs": [
    {
     "name": "stderr",
     "output_type": "stream",
     "text": [
      "/Users/nikitamehrotra/Downloads/assignment1/env/lib/python3.7/site-packages/sklearn/metrics/ranking.py:651: UndefinedMetricWarning: No positive samples in y_true, true positive value should be meaningless\n",
      "  UndefinedMetricWarning)\n"
     ]
    },
    {
     "data": {
      "text/plain": [
       "<matplotlib.legend.Legend at 0x16471ce48>"
      ]
     },
     "execution_count": 40,
     "metadata": {},
     "output_type": "execute_result"
    },
    {
     "data": {
      "image/png": "[encoded data removed]",
      "text/plain": [
       "<Figure size 432x288 with 1 Axes>"
      ]
     },
     "metadata": {
      "needs_background": "light"
     },
     "output_type": "display_data"
    }
   ],
   "source": [
    "n_class=5\n",
    "y_score = label_test\n",
    "y_binary = label_binarize(predicted_test, classes=[0, 1, 2,3,4]) \n",
    "fpr = dict() \n",
    "tpr = dict() \n",
    "roc_auc = dict() \n",
    "lw=2 \n",
    "for i in range(n_class): \n",
    "    fpr[i], tpr[i], _ = roc_curve(y_binary[:, i], y_score) \n",
    "    roc_auc[i] = auc(fpr[i], tpr[i]) \n",
    "    fpr[\"micro\"], tpr[\"micro\"], _ = roc_curve(y_binary[:,i].ravel(), y_score.ravel()) \n",
    "    roc_auc[\"micro\"] = auc(fpr[\"micro\"], tpr[\"micro\"]) \n",
    "all_fpr = np.unique(np.concatenate([fpr[i] for i in range(n_class)])) \n",
    "mean_tpr = np.zeros_like(all_fpr)\n",
    "for i in range(n_class): \n",
    "    mean_tpr += interp(all_fpr, fpr[i], tpr[i]) \n",
    "mean_tpr /= n_class\n",
    "fpr[\"macro\"] = all_fpr \n",
    "tpr[\"macro\"] = mean_tpr \n",
    "roc_auc[\"macro\"] = auc(fpr[\"macro\"], tpr[\"macro\"]) \n",
    "plt.figure() \n",
    "plt.plot(fpr[\"micro\"], tpr[\"micro\"], label='micro-average ROC curve (area = {0:0.2f})' ''.format(roc_auc[\"micro\"]), color='deeppink', linestyle=':', linewidth=4) \n",
    "plt.plot(fpr[\"macro\"], tpr[\"macro\"], label='macro-average ROC curve (area = {0:0.2f})' ''.format(roc_auc[\"macro\"]), color='navy', linestyle=':', linewidth=4) \n",
    "colors = cycle(['aqua', 'darkorange', 'cornflowerblue']) \n",
    "for i,color in zip(range(n_class), colors): \n",
    "    plt.plot(fpr[i], tpr[i], color=color, lw=lw, label='ROC curve of class {0} (area = {1:0.2f})' ''.format(i, roc_auc[i])) \n",
    "plt.plot([0, 1], [0, 1], 'k--', lw=lw) \n",
    "plt.xlim([0.0, 1.0]) \n",
    "plt.ylim([0.0, 1.05]) \n",
    "plt.xlabel('False Positive Rate') \n",
    "plt.ylabel('True Positive Rate') \n",
    "plt.legend(loc=\"lower right\")"
   ]
  },
  {
   "cell_type": "code",
   "execution_count": null,
   "metadata": {},
   "outputs": [],
   "source": []
  }
 ],
 "metadata": {
  "kernelspec": {
   "display_name": "assgnment1",
   "language": "python",
   "name": "assgnment1"
  },
  "language_info": {
   "codemirror_mode": {
    "name": "ipython",
    "version": 3
   },
   "file_extension": ".py",
   "mimetype": "text/x-python",
   "name": "python",
   "nbconvert_exporter": "python",
   "pygments_lexer": "ipython3",
   "version": "3.7.0"
  }
 },
 "nbformat": 4,
 "nbformat_minor": 2
}
